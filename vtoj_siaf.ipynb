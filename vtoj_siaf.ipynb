{
  "cells": [
    {
      "cell_type": "code",
      "source": [
        "import importlib\n",
        "import numpy as np\n",
        "import vtoj_siaf\n",
        "importlib.reload(vtoj_siaf)\n",
        "from vtoj_siaf import get_vtoj_siaf"
      ],
      "outputs": [
        {
          "output_type": "stream",
          "name": "stdout",
          "text": [
            "**WARNING**: LOCAL JWST PRD VERSION PRDOPSSOC-034 DOESN'T MATCH THE CURRENT ONLINE VERSION PRDOPSSOC-036\n",
            "Please consider updating pysiaf, e.g. pip install --upgrade pysiaf or conda update pysiaf\n"
          ]
        }
      ],
      "execution_count": 1,
      "metadata": {
        "collapsed": true,
        "jupyter": {
          "source_hidden": false,
          "outputs_hidden": false
        },
        "nteract": {
          "transient": {
            "deleting": false
          }
        },
        "execution": {
          "iopub.status.busy": "2021-06-22T15:36:03.015Z",
          "iopub.execute_input": "2021-06-22T15:36:03.025Z",
          "iopub.status.idle": "2021-06-22T15:36:05.332Z",
          "shell.execute_reply": "2021-06-22T15:36:05.375Z"
        }
      }
    },
    {
      "cell_type": "code",
      "source": [
        "JtoFGS = np.array([[-0.000873067342356,  0.999757625459087,  0.021998233057671],\n",
        "                   [ 0.003603343153256, -0.021994952998128,  0.999751583464858],\n",
        "                   [ 0.999993131751562,  0.000952115833223, -0.003583259602304] ])\n",
        "FGStoJ = JtoFGS.T"
      ],
      "outputs": [],
      "execution_count": 2,
      "metadata": {
        "collapsed": true,
        "jupyter": {
          "source_hidden": false,
          "outputs_hidden": false
        },
        "nteract": {
          "transient": {
            "deleting": false
          }
        },
        "execution": {
          "iopub.status.busy": "2021-06-22T15:36:05.342Z",
          "iopub.execute_input": "2021-06-22T15:36:05.350Z",
          "iopub.status.idle": "2021-06-22T15:36:05.361Z",
          "shell.execute_reply": "2021-06-22T15:36:05.380Z"
        }
      }
    },
    {
      "cell_type": "code",
      "source": [
        "v2, v3, v3angle, VtoJ = get_vtoj_siaf(206.464, -697.970, -1.250817132890, FGStoJ)"
      ],
      "outputs": [
        {
          "output_type": "stream",
          "name": "stdout",
          "text": [
            "R_FGStoV = \n",
            " [[-9.26860580e-04  3.40488980e-03  9.99993774e-01]\n",
            " [ 9.99761289e-01 -2.18257461e-02  1.00095982e-03]\n",
            " [ 2.18290183e-02  9.99755992e-01 -3.38384759e-03]]\n"
          ]
        }
      ],
      "execution_count": 3,
      "metadata": {
        "collapsed": true,
        "jupyter": {
          "source_hidden": false,
          "outputs_hidden": false
        },
        "nteract": {
          "transient": {
            "deleting": false
          }
        },
        "execution": {
          "iopub.status.busy": "2021-06-22T15:36:06.631Z",
          "iopub.execute_input": "2021-06-22T15:36:06.637Z",
          "iopub.status.idle": "2021-06-22T15:36:06.650Z",
          "shell.execute_reply": "2021-06-22T15:36:06.658Z"
        }
      }
    },
    {
      "cell_type": "code",
      "source": [
        "print(v2,v3,v3angle)"
      ],
      "outputs": [
        {
          "output_type": "stream",
          "name": "stdout",
          "text": [
            "10.199456896517669 41.166609695167864 0.00968759049556616\n"
          ]
        }
      ],
      "execution_count": 4,
      "metadata": {
        "collapsed": true,
        "jupyter": {
          "source_hidden": false,
          "outputs_hidden": false
        },
        "nteract": {
          "transient": {
            "deleting": false
          }
        },
        "execution": {
          "iopub.status.busy": "2021-06-22T15:36:09.427Z",
          "iopub.execute_input": "2021-06-22T15:36:09.431Z",
          "iopub.status.idle": "2021-06-22T15:36:09.443Z",
          "shell.execute_reply": "2021-06-22T15:36:09.448Z"
        }
      }
    },
    {
      "cell_type": "code",
      "source": [
        "print(VtoJ)"
      ],
      "outputs": [
        {
          "output_type": "stream",
          "name": "stdout",
          "text": [
            "[[ 9.99999984e-01  4.94483617e-05  1.99581355e-04]\n",
            " [-4.94164188e-05  9.99999982e-01 -1.69080346e-04]\n",
            " [-1.99582618e-04  1.69070959e-04  9.99999961e-01]]\n"
          ]
        }
      ],
      "execution_count": 5,
      "metadata": {
        "collapsed": true,
        "jupyter": {
          "source_hidden": false,
          "outputs_hidden": false
        },
        "nteract": {
          "transient": {
            "deleting": false
          }
        },
        "execution": {
          "iopub.status.busy": "2021-06-22T15:36:11.201Z",
          "iopub.execute_input": "2021-06-22T15:36:11.207Z",
          "iopub.status.idle": "2021-06-22T15:36:11.222Z",
          "shell.execute_reply": "2021-06-22T15:36:11.229Z"
        }
      }
    },
    {
      "cell_type": "code",
      "source": [
        "###\n",
        "### Now the SE-20\n",
        "###"
      ],
      "outputs": [],
      "execution_count": 6,
      "metadata": {
        "collapsed": true,
        "jupyter": {
          "source_hidden": false,
          "outputs_hidden": false
        },
        "nteract": {
          "transient": {
            "deleting": false
          }
        },
        "execution": {
          "iopub.status.busy": "2021-06-22T15:36:21.433Z",
          "iopub.execute_input": "2021-06-22T15:36:21.440Z",
          "iopub.status.idle": "2021-06-22T15:36:21.448Z",
          "shell.execute_reply": "2021-06-22T15:36:21.455Z"
        }
      }
    },
    {
      "cell_type": "code",
      "source": [
        "FGStoJ_old = np.array([[ -0.001004440003336,  0.003381458356796,  0.999993778400453],\n",
        "                       [  0.999999495544289, -0.000000000000039,  0.001004445745864],\n",
        "                       [  0.000003396491461,  0.999994282853396, -0.003381456651004]])\n"
      ],
      "outputs": [],
      "execution_count": 7,
      "metadata": {
        "collapsed": true,
        "jupyter": {
          "source_hidden": false,
          "outputs_hidden": false
        },
        "nteract": {
          "transient": {
            "deleting": false
          }
        },
        "execution": {
          "iopub.status.busy": "2021-06-22T15:36:22.623Z",
          "iopub.execute_input": "2021-06-22T15:36:22.631Z",
          "iopub.status.idle": "2021-06-22T15:36:22.644Z",
          "shell.execute_reply": "2021-06-22T15:36:22.650Z"
        }
      }
    },
    {
      "cell_type": "code",
      "source": [
        "v2, v3, v3angle, VtoJ = get_vtoj_siaf(206.464, -697.970, -1.250817132890, FGStoJ_old)\n",
        "print(v2,v3,v3angle)"
      ],
      "outputs": [
        {
          "output_type": "stream",
          "name": "stdout",
          "text": [
            "R_FGStoV = \n",
            " [[-9.26860580e-04  3.40488980e-03  9.99993774e-01]\n",
            " [ 9.99761289e-01 -2.18257461e-02  1.00095982e-03]\n",
            " [ 2.18290183e-02  9.99755992e-01 -3.38384759e-03]]\n",
            "-15.89259829381645 -5.181212006578004 -1.2506145513170919\n"
          ]
        }
      ],
      "execution_count": 8,
      "metadata": {
        "collapsed": true,
        "jupyter": {
          "source_hidden": false,
          "outputs_hidden": false
        },
        "nteract": {
          "transient": {
            "deleting": false
          }
        },
        "execution": {
          "iopub.status.busy": "2021-06-22T15:36:23.591Z",
          "iopub.execute_input": "2021-06-22T15:36:23.597Z",
          "iopub.status.idle": "2021-06-22T15:36:23.609Z",
          "shell.execute_reply": "2021-06-22T15:36:23.614Z"
        }
      }
    },
    {
      "cell_type": "code",
      "source": [
        "print(VtoJ)"
      ],
      "outputs": [
        {
          "output_type": "stream",
          "name": "stdout",
          "text": [
            "[[ 9.99999997e-01 -7.70494907e-05 -2.51192247e-05]\n",
            " [ 7.75793793e-05  9.99761790e-01  2.18256084e-02]\n",
            " [ 2.34315890e-05 -2.18256103e-02  9.99761793e-01]]\n"
          ]
        }
      ],
      "execution_count": 9,
      "metadata": {
        "collapsed": true,
        "jupyter": {
          "source_hidden": false,
          "outputs_hidden": false
        },
        "nteract": {
          "transient": {
            "deleting": false
          }
        },
        "execution": {
          "iopub.status.busy": "2021-06-22T15:36:30.364Z",
          "iopub.execute_input": "2021-06-22T15:36:30.370Z",
          "iopub.status.idle": "2021-06-22T15:36:30.381Z",
          "shell.execute_reply": "2021-06-22T15:36:30.386Z"
        }
      }
    },
    {
      "cell_type": "code",
      "source": [],
      "outputs": [],
      "execution_count": null,
      "metadata": {
        "collapsed": true,
        "jupyter": {
          "source_hidden": false,
          "outputs_hidden": false
        },
        "nteract": {
          "transient": {
            "deleting": false
          }
        }
      }
    },
    {
      "cell_type": "code",
      "source": [],
      "outputs": [],
      "execution_count": null,
      "metadata": {
        "collapsed": true,
        "jupyter": {
          "source_hidden": false,
          "outputs_hidden": false
        },
        "nteract": {
          "transient": {
            "deleting": false
          }
        }
      }
    }
  ],
  "metadata": {
    "kernel_info": {
      "name": "python3"
    },
    "language_info": {
      "name": "python",
      "version": "3.8.10",
      "mimetype": "text/x-python",
      "codemirror_mode": {
        "name": "ipython",
        "version": 3
      },
      "pygments_lexer": "ipython3",
      "nbconvert_exporter": "python",
      "file_extension": ".py"
    },
    "kernelspec": {
      "argv": [
        "/Users/tsohn/anaconda3/envs/fpa/bin/python",
        "-m",
        "ipykernel_launcher",
        "-f",
        "{connection_file}"
      ],
      "display_name": "Python 3",
      "language": "python",
      "name": "python3"
    },
    "nteract": {
      "version": "0.28.0"
    }
  },
  "nbformat": 4,
  "nbformat_minor": 0
}
